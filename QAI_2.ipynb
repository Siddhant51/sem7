{
 "cells": [
  {
   "cell_type": "code",
   "execution_count": 1,
   "id": "bb1627c3",
   "metadata": {},
   "outputs": [
    {
     "name": "stdout",
     "output_type": "stream",
     "text": [
      "Measurement outcomes:\n",
      "{'011': 518, '010': 506}\n"
     ]
    },
    {
     "name": "stderr",
     "output_type": "stream",
     "text": [
      "C:\\Users\\Siddhant\\AppData\\Local\\Temp\\ipykernel_77168\\2818243317.py:27: DeprecationWarning: Using a qobj for run() is deprecated as of qiskit-aer 0.9.0 and will be removed no sooner than 3 months from that release date. Transpiled circuits should now be passed directly using `backend.run(circuits, **run_options).\n",
      "  result = simulator.run(qobj).result()\n"
     ]
    }
   ],
   "source": [
    "from qiskit import QuantumCircuit, Aer, transpile, assemble\n",
    "from qiskit.visualization import plot_histogram\n",
    "\n",
    "# Create a quantum circuit with 3 qubits and 3 classical bits\n",
    "qc = QuantumCircuit(3, 3)\n",
    "\n",
    "# Encode the logical qubit in 3 physical qubits using the Hadamard gate and the CNOT gate\n",
    "qc.h(0)\n",
    "qc.cx(0, 1)\n",
    "qc.cx(0, 2)\n",
    "\n",
    "# Simulate a bit-flip error on qubit 1\n",
    "qc.x(1)\n",
    "\n",
    "# Correct the error using the CNOT gate and the Toffoli gate\n",
    "qc.cx(0, 1)\n",
    "qc.cx(0, 2)\n",
    "qc.ccx(2, 1, 0)\n",
    "\n",
    "# Measure the physical qubits and store the results in the classical bits\n",
    "qc.measure([0, 1, 2], [0, 1, 2])\n",
    "\n",
    "# Simulate the circuit and plot the results\n",
    "simulator = Aer.get_backend('qasm_simulator')\n",
    "transpiled_circuit = transpile(qc, simulator)\n",
    "qobj = assemble(transpiled_circuit)\n",
    "result = simulator.run(qobj).result()\n",
    "counts = result.get_counts(transpiled_circuit)\n",
    "print(\"Measurement outcomes:\")\n",
    "print(counts)"
   ]
  },
  {
   "cell_type": "code",
   "execution_count": null,
   "id": "44ec7eb2",
   "metadata": {},
   "outputs": [],
   "source": []
  }
 ],
 "metadata": {
  "kernelspec": {
   "display_name": "Python 3 (ipykernel)",
   "language": "python",
   "name": "python3"
  },
  "language_info": {
   "codemirror_mode": {
    "name": "ipython",
    "version": 3
   },
   "file_extension": ".py",
   "mimetype": "text/x-python",
   "name": "python",
   "nbconvert_exporter": "python",
   "pygments_lexer": "ipython3",
   "version": "3.10.9"
  }
 },
 "nbformat": 4,
 "nbformat_minor": 5
}
