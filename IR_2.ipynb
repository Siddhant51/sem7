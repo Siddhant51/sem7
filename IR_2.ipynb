{
 "cells": [
  {
   "cell_type": "code",
   "execution_count": 1,
   "id": "a73aa5c4",
   "metadata": {},
   "outputs": [
    {
     "name": "stdout",
     "output_type": "stream",
     "text": [
      "Documents containing 'banana': {3}\n"
     ]
    }
   ],
   "source": [
    "from collections import defaultdict\n",
    "\n",
    "class InvertedIndex:\n",
    "    def __init__(self):\n",
    "        self.index = defaultdict(set)\n",
    "\n",
    "    def add_document(self, document_id, text):\n",
    "        # Tokenize the text and add each token to the index\n",
    "        for term in text.split():\n",
    "            self.index[term.lower()].add(document_id)\n",
    "\n",
    "    def search(self, term):\n",
    "        # Return the set of document ids that contain the term\n",
    "        return self.index[term.lower()]\n",
    "\n",
    "# Example usage:\n",
    "documents = {\n",
    "    1: \"It is what it is\",\n",
    "    2: \"What is it\",\n",
    "    3: \"It is a banana\",\n",
    "}\n",
    "\n",
    "# Create an inverted index\n",
    "inverted_index = InvertedIndex()\n",
    "\n",
    "# Add documents to the index\n",
    "for doc_id, text in documents.items():\n",
    "    inverted_index.add_document(doc_id, text)\n",
    "\n",
    "# Search the index\n",
    "search_term = \"banana\"\n",
    "found_documents = inverted_index.search(search_term)\n",
    "\n",
    "print(f\"Documents containing '{search_term}': {found_documents}\")"
   ]
  },
  {
   "cell_type": "code",
   "execution_count": null,
   "id": "7317b785",
   "metadata": {},
   "outputs": [],
   "source": []
  }
 ],
 "metadata": {
  "kernelspec": {
   "display_name": "Python 3 (ipykernel)",
   "language": "python",
   "name": "python3"
  },
  "language_info": {
   "codemirror_mode": {
    "name": "ipython",
    "version": 3
   },
   "file_extension": ".py",
   "mimetype": "text/x-python",
   "name": "python",
   "nbconvert_exporter": "python",
   "pygments_lexer": "ipython3",
   "version": "3.10.9"
  }
 },
 "nbformat": 4,
 "nbformat_minor": 5
}
