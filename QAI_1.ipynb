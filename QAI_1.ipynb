{
 "cells": [
  {
   "cell_type": "code",
   "execution_count": 4,
   "id": "f7b445b9",
   "metadata": {},
   "outputs": [
    {
     "name": "stdout",
     "output_type": "stream",
     "text": [
      "Executing Job...\n",
      "\n",
      "RESULT:  {'1001000001110000': 1} \n",
      "\n",
      "Press any key to close\n",
      "8\n"
     ]
    },
    {
     "data": {
      "text/plain": [
       "'8'"
      ]
     },
     "execution_count": 4,
     "metadata": {},
     "output_type": "execute_result"
    }
   ],
   "source": [
    "from qiskit import QuantumRegister, ClassicalRegister, QuantumCircuit, execute, Aer\n",
    "\n",
    "q = QuantumRegister(16, 'q')\n",
    "c = ClassicalRegister(16, 'c')\n",
    "circuit = QuantumCircuit(q, c)\n",
    "circuit.h(q)  # Applies Hadamard gate to all qubits\n",
    "circuit.measure(q, c)  # Measures all qubits\n",
    "\n",
    "backend = Aer.get_backend('qasm_simulator')\n",
    "job = execute(circuit, backend, shots=1)\n",
    "\n",
    "print('Executing Job...\\n')\n",
    "result = job.result()\n",
    "counts = result.get_counts(circuit)\n",
    "\n",
    "print('RESULT: ', counts, '\\n')\n",
    "print('Press any key to close')\n",
    "input()\n"
   ]
  },
  {
   "cell_type": "code",
   "execution_count": null,
   "id": "6727b18b",
   "metadata": {},
   "outputs": [],
   "source": []
  }
 ],
 "metadata": {
  "kernelspec": {
   "display_name": "Python 3 (ipykernel)",
   "language": "python",
   "name": "python3"
  },
  "language_info": {
   "codemirror_mode": {
    "name": "ipython",
    "version": 3
   },
   "file_extension": ".py",
   "mimetype": "text/x-python",
   "name": "python",
   "nbconvert_exporter": "python",
   "pygments_lexer": "ipython3",
   "version": "3.10.9"
  }
 },
 "nbformat": 4,
 "nbformat_minor": 5
}
