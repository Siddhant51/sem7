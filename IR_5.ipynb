{
 "cells": [
  {
   "cell_type": "code",
   "execution_count": 1,
   "id": "0d3a7a5b",
   "metadata": {},
   "outputs": [],
   "source": [
    "def pagerank(graph, damping_factor=0.85, max_iterations=100):\n",
    "\n",
    "  # Initialize the PageRank vector.\n",
    "  page_rank = {}\n",
    "  for node in graph:\n",
    "    page_rank[node] = 1.0 / len(graph)\n",
    "\n",
    "  # Iterate the PageRank algorithm.\n",
    "  for _ in range(max_iterations):\n",
    "    new_page_rank = {}\n",
    "    for node in graph:\n",
    "      new_page_rank[node] = (1 - damping_factor) / len(graph)\n",
    "      for neighbor in graph[node]:\n",
    "        new_page_rank[node] += damping_factor * page_rank[neighbor] / len(graph[neighbor])\n",
    "\n",
    "    # Check for convergence.\n",
    "    converged = True\n",
    "    for node in graph:\n",
    "      if abs(new_page_rank[node] - page_rank[node]) > 1e-6:\n",
    "        converged = False\n",
    "        break\n",
    "\n",
    "    if converged:\n",
    "      break\n",
    "\n",
    "    page_rank = new_page_rank\n",
    "\n",
    "  return page_rank"
   ]
  },
  {
   "cell_type": "code",
   "execution_count": 3,
   "id": "eb8e8c50",
   "metadata": {},
   "outputs": [
    {
     "name": "stdout",
     "output_type": "stream",
     "text": [
      "{'A': 0.43274791442357763, 'B': 0.23391875224308914, 'C': 0.43274791442357763}\n"
     ]
    }
   ],
   "source": [
    "graph = {\n",
    "    \"A\": [\"B\", \"C\"],\n",
    "    \"B\": [\"A\",],\n",
    "    \"C\": [\"A\", \"B\"]\n",
    "}\n",
    "\n",
    "page_rank = pagerank(graph)\n",
    "\n",
    "print(page_rank)"
   ]
  },
  {
   "cell_type": "code",
   "execution_count": null,
   "id": "7e4367af",
   "metadata": {},
   "outputs": [],
   "source": []
  }
 ],
 "metadata": {
  "kernelspec": {
   "display_name": "Python 3 (ipykernel)",
   "language": "python",
   "name": "python3"
  },
  "language_info": {
   "codemirror_mode": {
    "name": "ipython",
    "version": 3
   },
   "file_extension": ".py",
   "mimetype": "text/x-python",
   "name": "python",
   "nbconvert_exporter": "python",
   "pygments_lexer": "ipython3",
   "version": "3.10.9"
  }
 },
 "nbformat": 4,
 "nbformat_minor": 5
}
