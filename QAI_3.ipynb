{
 "cells": [
  {
   "cell_type": "code",
   "execution_count": 4,
   "id": "898a3018",
   "metadata": {},
   "outputs": [
    {
     "name": "stdout",
     "output_type": "stream",
     "text": [
      "Measurement outcomes:\n",
      "{'101': 1}\n"
     ]
    }
   ],
   "source": [
    "# Import necessary Qiskit modules\n",
    "from qiskit import QuantumCircuit, Aer, transpile, assemble, execute\n",
    "from qiskit.visualization import plot_histogram\n",
    "\n",
    "# Step 1: Create a quantum circuit with 3 qubits (Alice, Bob, and entangled pair)\n",
    "qc = QuantumCircuit(3, 3)\n",
    "\n",
    "# Step 2: Prepare Alice's qubit (the state to be teleported)\n",
    "qc.x(0)  # Apply an X gate (bit-flip) to Alice's qubit to set it to |1⟩\n",
    "\n",
    "# Step 3: Create an entangled pair (Bell state) between Alice and Bob\n",
    "qc.h(1)  # Apply a Hadamard gate to Alice's qubit\n",
    "qc.cx(1, 2)  # Apply a CNOT gate with Alice's qubit as the control and Bob's qubit as the target\n",
    "\n",
    "# Step 4: Perform a Bell measurement on Alice's qubit and her part of the entangled pair\n",
    "qc.cx(0, 1)  # Apply a CNOT gate with Alice's qubit as the control and her part of the entangled pair as the target\n",
    "qc.h(0)  # Apply a Hadamard gate to Alice's qubit\n",
    "qc.measure([0, 1], [0, 1])  # Measure Alice's qubit and her part of the entangled pair\n",
    "\n",
    "# Step 5: Perform conditional operations on Bob's qubit\n",
    "qc.cx(1, 2)  # Apply a CNOT gate with Alice's part of the entangled pair as the control and Bob's qubit as the target\n",
    "qc.cz(0, 2)  # Apply a controlled-Z gate with Alice's qubit as the control and Bob's qubit as the target\n",
    "\n",
    "# Step 6: Measure Bob's qubit\n",
    "qc.measure(2, 2)  # Measure Bob's qubit\n",
    "\n",
    "# Step 7: Simulate the circuit and plot the results\n",
    "simulator = Aer.get_backend('qasm_simulator')\n",
    "job = execute(qc, simulator, shots=1)\n",
    "result = job.result()\n",
    "counts = result.get_counts()\n",
    "\n",
    "# Visualize the results\n",
    "print(\"Measurement outcomes:\")\n",
    "print(counts)"
   ]
  },
  {
   "cell_type": "code",
   "execution_count": null,
   "id": "b1cb6dbb",
   "metadata": {},
   "outputs": [],
   "source": []
  }
 ],
 "metadata": {
  "kernelspec": {
   "display_name": "Python 3 (ipykernel)",
   "language": "python",
   "name": "python3"
  },
  "language_info": {
   "codemirror_mode": {
    "name": "ipython",
    "version": 3
   },
   "file_extension": ".py",
   "mimetype": "text/x-python",
   "name": "python",
   "nbconvert_exporter": "python",
   "pygments_lexer": "ipython3",
   "version": "3.10.9"
  }
 },
 "nbformat": 4,
 "nbformat_minor": 5
}
